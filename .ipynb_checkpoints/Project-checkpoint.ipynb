{
 "cells": [
  {
   "cell_type": "code",
   "execution_count": null,
   "metadata": {
    "collapsed": true
   },
   "outputs": [],
   "source": [
    "import numpy as np\n",
    "import matplotlib.pyplot as plt\n",
    "import mltools as ml\n",
    "\n",
    "# Load the data\n",
    "X = np.genfromtxt(\"data/X_train.txt\", delimiter=None)\n",
    "Y = np.genfromtxt(\"data/Y_train.txt\", delimiter=None)\n",
    "Xtest = np.genfromtxt(\"data/X_test.txt\",delimiter=None)\n",
    "\n",
    "X, Y = ml.shuffleData(X, Y)"
   ]
  },
  {
   "cell_type": "markdown",
   "metadata": {},
   "source": [
    "# Random Forest"
   ]
  },
  {
   "cell_type": "code",
   "execution_count": 6,
   "metadata": {
    "collapsed": false
   },
   "outputs": [],
   "source": [
    "Xtr,Xte,Ytr,Yte = ml.splitData(X,Y,0.8)\n",
    "\n",
    "ensemble = [None] * 25\n",
    "Ytr_rf = np.zeros((len(Ytr), 25))\n",
    "Yte_rf = np.zeros((len(Yte), 25))\n",
    "\n",
    "for i in range(25):\n",
    "    Xi, Yi = ml.bootstrapData(Xtr, Ytr)\n",
    "    ensemble[i] = ml.dtree.treeClassify(Xi, Yi, maxDepth=20, nFeatures=10)\n",
    "    Ytr_rf[:,i], Yte_rf[:,i] = ensemble[i].predict(Xtr), ensemble[i].predict(Xte)\n",
    "    \n",
    "    errorTrain, errorValid = np.zeros(4), np.zeros(4)\n",
    "    bags = [1, 5, 10, 25]\n",
    "    for i, j in enumerate(bags):\n",
    "        errorTrain[i] = np.mean((Ytr - Ytr_rf[:,:i+1].mean(axis=1)>0.5))\n",
    "        errorValid[i] = np.mean((Yte - Yte_rf[:,:i+1].mean(axis=1)>0.5))\n",
    "        #print(\"{:02d} members: {} train, {} valid\".format(i+1,errorTrain,errorValid))"
   ]
  },
  {
   "cell_type": "code",
   "execution_count": 7,
   "metadata": {
    "collapsed": false
   },
   "outputs": [
    {
     "name": "stdout",
     "output_type": "stream",
     "text": [
      "[ 0.14205  0.0796   0.13585  0.09445]\n",
      "[ 0.1987   0.14295  0.207    0.17055]\n"
     ]
    }
   ],
   "source": [
    "print(errorTrain)\n",
    "print(errorValid)"
   ]
  },
  {
   "cell_type": "code",
   "execution_count": 8,
   "metadata": {
    "collapsed": false
   },
   "outputs": [
    {
     "name": "stdout",
     "output_type": "stream",
     "text": [
      "AUC Train:  0.955640037652  Valid:  0.732607595574\n"
     ]
    }
   ],
   "source": [
    "class randomForest(ml.base.classifier):\n",
    "     def __init__(self, learners):\n",
    "         self.learners = learners\n",
    "         self.classes = learners[0].classes\n",
    "            \n",
    "     def predictSoft(self,X):\n",
    "         ysoft = np.zeros((X.shape[0], len(self.classes)))\n",
    "         for i in range(len(self.learners)): \n",
    "            ysoft[:,1] += self.learners[i].predict(X)\n",
    "         return ysoft / len(self.learners)\n",
    "    \n",
    "rf = randomForest(ensemble);\n",
    "print(\"AUC Train: \", rf.auc(Xtr,Ytr))\n",
    "print(\"AUC Valid: \", rf.auc(Xte,Yte))"
   ]
  },
  {
   "cell_type": "code",
   "execution_count": 9,
   "metadata": {
    "collapsed": false
   },
   "outputs": [],
   "source": [
    "predict = rf.predictSoft(Xtest)\n",
    "\n",
    "np.savetxt('random_forest.txt',\n",
    "np.vstack( (np.arange(len(predict)) , predict) ).T,\n",
    "'%d, %.2f',header='ID,Prob1',comments='',delimiter=',')"
   ]
  },
  {
   "cell_type": "markdown",
   "metadata": {
    "collapsed": true
   },
   "source": [
    "# Linear Regression"
   ]
  },
  {
   "cell_type": "code",
   "execution_count": 25,
   "metadata": {
    "collapsed": false
   },
   "outputs": [
    {
     "name": "stdout",
     "output_type": "stream",
     "text": [
      "[0.22509126937499996, 0.20956680310642684, 0.20323935782516994]\n",
      "[0.22358404062500048, 0.20745619666742099, 0.20222935929908625]\n"
     ]
    }
   ],
   "source": [
    "D = [0, 1, 2]\n",
    "\n",
    "ErrTrain = []\n",
    "ErrTest = []\n",
    "\n",
    "for i,d in enumerate(D):\n",
    "    XtrP = ml.transforms.fpoly(Xtr, d, bias=False) \n",
    "    XtrP,params = ml.transforms.rescale(XtrP)\n",
    "    lr = ml.linear.linearRegress( XtrP, Ytr )\n",
    "    \n",
    "    Phi = lambda X: ml.transforms.rescale(ml.transforms.fpoly(X, d, False), params)[0]\n",
    "    \n",
    "    ErrTrain.append(lr.mse(Phi(Xtr), Ytr))\n",
    "    ErrTest.append(lr.mse(Phi(Xte), Yte))\n",
    "    \n",
    "print(ErrTrain)\n",
    "print(ErrTest)"
   ]
  },
  {
   "cell_type": "code",
   "execution_count": 30,
   "metadata": {
    "collapsed": false
   },
   "outputs": [],
   "source": [
    "predict = lr.predict(Phi(Xtest))\n",
    "\n",
    "np.savetxt('linear_regression.txt',\n",
    "np.vstack( (np.arange(len(predict)) , predict[:,0]) ).T,\n",
    "'%d, %.2f',header='ID,Prob1',comments='',delimiter=',')"
   ]
  },
  {
   "cell_type": "code",
   "execution_count": null,
   "metadata": {
    "collapsed": true
   },
   "outputs": [],
   "source": []
  }
 ],
 "metadata": {
  "anaconda-cloud": {},
  "kernelspec": {
   "display_name": "Python 3",
   "language": "python",
   "name": "python3"
  },
  "language_info": {
   "codemirror_mode": {
    "name": "ipython",
    "version": 3
   },
   "file_extension": ".py",
   "mimetype": "text/x-python",
   "name": "python",
   "nbconvert_exporter": "python",
   "pygments_lexer": "ipython3",
   "version": "3.4.3"
  }
 },
 "nbformat": 4,
 "nbformat_minor": 1
}
