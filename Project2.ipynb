{
 "cells": [
  {
   "cell_type": "code",
   "execution_count": 1,
   "metadata": {
    "collapsed": false
   },
   "outputs": [],
   "source": [
    "import numpy as np\n",
    "np.random.seed(0)\n",
    "import mltools as ml\n",
    "import matplotlib.pyplot as plt   # use matplotlib for plotting with inline plots\n",
    "%matplotlib inline\n",
    "\n",
    "import mltools.nnet    # import neural network code\n",
    "\n",
    "# Load the data\n",
    "X = np.genfromtxt(\"data/X_train.txt\", delimiter=None)\n",
    "Y = np.genfromtxt(\"data/Y_train.txt\", delimiter=None)\n",
    "Xte = np.genfromtxt('data/X_test.txt',delimiter=None)\n",
    "\n",
    "X, Y = ml.shuffleData(X, Y)\n",
    "\n",
    "X,_  = ml.transforms.rescale(X)  # works much better on rescaled data"
   ]
  },
  {
   "cell_type": "code",
   "execution_count": null,
   "metadata": {
    "collapsed": false
   },
   "outputs": [
    {
     "name": "stdout",
     "output_type": "stream",
     "text": [
      "it 1 : J = [ 0.21361623]\n",
      "it 2 : J = [ 0.21198278]\n",
      "it 4 : J = [ 0.21090262]\n",
      "it 8 : J = [ 0.20958707]\n",
      "it 16 : J = [ 0.20742685]\n",
      "it 32 : J = [ 0.20657371]\n",
      "it 64 : J = [ 0.20596834]\n",
      "it 128 : J = [ 0.20579772]\n",
      "it 256 : J = [ 0.20800923]\n",
      "it 512 : J = [ 0.21058704]\n"
     ]
    }
   ],
   "source": [
    "nn = ml.nnet.nnetRegress()\n",
    "\n",
    "nn.init_weights([14, 2, 1], 'random', X, Y)\n",
    "\n",
    "nn.train(X, Y, stopTol=-100, stepsize=0.1, stopIter=2000)\n",
    "print(\"\\n\",nn.wts)"
   ]
  },
  {
   "cell_type": "code",
   "execution_count": null,
   "metadata": {
    "collapsed": true
   },
   "outputs": [],
   "source": [
    "predict = nn.predict(Xtest)\n",
    "np.savetxt('neural_net.txt',\n",
    "np.vstack( (np.arange(len(predict)), predict) ).T,\n",
    "'%d, %.2f', header='ID, Prob1', comments='', delimiter=',')"
   ]
  },
  {
   "cell_type": "code",
   "execution_count": null,
   "metadata": {
    "collapsed": true
   },
   "outputs": [],
   "source": []
  }
 ],
 "metadata": {
  "anaconda-cloud": {},
  "kernelspec": {
   "display_name": "Python [conda root]",
   "language": "python",
   "name": "conda-root-py"
  },
  "language_info": {
   "codemirror_mode": {
    "name": "ipython",
    "version": 3
   },
   "file_extension": ".py",
   "mimetype": "text/x-python",
   "name": "python",
   "nbconvert_exporter": "python",
   "pygments_lexer": "ipython3",
   "version": "3.5.2"
  }
 },
 "nbformat": 4,
 "nbformat_minor": 1
}
